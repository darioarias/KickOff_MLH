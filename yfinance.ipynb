{
 "cells": [
  {
   "cell_type": "code",
   "execution_count": 4,
   "metadata": {},
   "outputs": [],
   "source": [
    "import yfinance as yf\n",
    "from pathlib import Path\n",
    "import json"
   ]
  },
  {
   "cell_type": "code",
   "execution_count": 5,
   "metadata": {},
   "outputs": [],
   "source": [
    "path = Path.cwd()/\"info.json\"\n",
    "ticket = \"AAPL\"  # update to get other data to test with\n",
    "path.touch()\n",
    "with path.open(mode='w', encoding='utf-8') as file: \n",
    "  info = yf.Ticker(ticket).info\n",
    "  file.write(json.dumps(info))"
   ]
  }
 ],
 "metadata": {
  "kernelspec": {
   "display_name": "Python 3.10.4 ('venv': venv)",
   "language": "python",
   "name": "python3"
  },
  "language_info": {
   "codemirror_mode": {
    "name": "ipython",
    "version": 3
   },
   "file_extension": ".py",
   "mimetype": "text/x-python",
   "name": "python",
   "nbconvert_exporter": "python",
   "pygments_lexer": "ipython3",
   "version": "3.10.4"
  },
  "orig_nbformat": 4,
  "vscode": {
   "interpreter": {
    "hash": "1f57c796e287b8d88109b952691f39c3ba533fe334643ed28c37ad184c75de94"
   }
  }
 },
 "nbformat": 4,
 "nbformat_minor": 2
}
